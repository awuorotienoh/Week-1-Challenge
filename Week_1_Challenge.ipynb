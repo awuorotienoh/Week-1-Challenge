{
  "nbformat": 4,
  "nbformat_minor": 0,
  "metadata": {
    "colab": {
      "provenance": []
    },
    "kernelspec": {
      "name": "python3",
      "display_name": "Python 3"
    },
    "language_info": {
      "name": "python"
    }
  },
  "cells": [
    {
      "cell_type": "code",
      "execution_count": 1,
      "metadata": {
        "id": "GxKSyURn2XmV"
      },
      "outputs": [],
      "source": [
        "%load_ext sql"
      ]
    },
    {
      "cell_type": "markdown",
      "source": [
        "# New Section"
      ],
      "metadata": {
        "id": "Ny_sZgxINZ-d"
      }
    },
    {
      "cell_type": "code",
      "source": [
        "%%sql sqlite:///jurisdiction_hierachy.db"
      ],
      "metadata": {
        "id": "d0CfbAsH2vvU"
      },
      "execution_count": 2,
      "outputs": []
    },
    {
      "cell_type": "code",
      "source": [
        "%%sql sqlite:///beneficiary_partner_data.db"
      ],
      "metadata": {
        "id": "BRR_fo10OaCp"
      },
      "execution_count": 9,
      "outputs": []
    },
    {
      "cell_type": "code",
      "source": [
        "%%sql CREATE TABLE jurisdiction_hierachy (\n",
        "partner_id INTEGER NOT NULL PRIMARY KEY,\n",
        "village VARCHAR(30) NOT NULL,\n",
        "district VARCHAR(30) NOT NULL,\n",
        "region VARCHAR(30)\n",
        ");"
      ],
      "metadata": {
        "colab": {
          "base_uri": "https://localhost:8080/"
        },
        "id": "ezBn_Kya2rQr",
        "outputId": "8ba0782d-7b84-44e3-ea84-cf16642cdd53"
      },
      "execution_count": 3,
      "outputs": [
        {
          "output_type": "stream",
          "name": "stdout",
          "text": [
            " * sqlite:///jurisdiction_hierachy.db\n",
            "Done.\n"
          ]
        },
        {
          "output_type": "execute_result",
          "data": {
            "text/plain": [
              "[]"
            ]
          },
          "metadata": {},
          "execution_count": 3
        }
      ]
    },
    {
      "cell_type": "markdown",
      "source": [
        "Insert Data into Jurisdiction_Hierachy"
      ],
      "metadata": {
        "id": "LkyhpDVMPwHl"
      }
    },
    {
      "cell_type": "code",
      "source": [
        "%%sql INSERT into jurisdiction_hierachy(partner_id, village, district, region) VALUES\n",
        "(1,'Middle Shabelle','Region',NULL),\n",
        "(2,'Hiraan','Region',NULL),\n",
        "(3,'Balcad','District','Middle Shabelle'),\n",
        "(4,'Jowhar','District','Middle Shabelle'),\n",
        "(5,'Beledweyn','District','Hiraan'),\n",
        "(6,'Dharkenley','Village','Beledweyn'),\n",
        "(7,'Bulo-Kahin','Village','Beledweyn'),\n",
        "(8,'Hilo Kelyo','Village','Beledweyn'),\n",
        "(9,'Xubow','Village','Beledweyn'),\n",
        "(10,'Xiintooy','Village','Beledweyn'),\n",
        "(11,'Dhagax Jebis','Village','Beledweyn'),\n",
        "(12,'Filtare','Village','Beledweyn'),\n",
        "(13,'Howl-Wadaag','Village','Beledweyn'),\n",
        "(14,'Balcad','Village','Balcad'),\n",
        "(15,'Mareeray','Village','Balcad'),\n",
        "(16,'Kulmis','Village','Balcad'),\n",
        "(17,'Sabuun','Village','Jowhar'),\n",
        "(18,'Bayaxaw','Village','Jowhar');"
      ],
      "metadata": {
        "colab": {
          "base_uri": "https://localhost:8080/"
        },
        "id": "ZQW3U-nz4Beq",
        "outputId": "006af686-9164-4502-cac9-e80a72dfc158"
      },
      "execution_count": 4,
      "outputs": [
        {
          "output_type": "stream",
          "name": "stdout",
          "text": [
            " * sqlite:///jurisdiction_hierachy.db\n",
            "18 rows affected.\n"
          ]
        },
        {
          "output_type": "execute_result",
          "data": {
            "text/plain": [
              "[]"
            ]
          },
          "metadata": {},
          "execution_count": 4
        }
      ]
    },
    {
      "cell_type": "markdown",
      "source": [
        "2. Write a SQL script that creates the following summary tables (can be tables or views):"
      ],
      "metadata": {
        "id": "5cLb_HKmQI63"
      }
    },
    {
      "cell_type": "markdown",
      "source": [
        " District Name"
      ],
      "metadata": {
        "id": "02ktGV8BPtY4"
      }
    },
    {
      "cell_type": "code",
      "source": [
        "%sql SELECT district FROM jurisdiction_hierachy"
      ],
      "metadata": {
        "colab": {
          "base_uri": "https://localhost:8080/",
          "height": 457
        },
        "id": "Pq83CCeS4NQV",
        "outputId": "1b6fe401-99d1-4ba0-dfc1-4f9d413a38fd"
      },
      "execution_count": 5,
      "outputs": [
        {
          "output_type": "stream",
          "name": "stdout",
          "text": [
            " * sqlite:///jurisdiction_hierachy.db\n",
            "Done.\n"
          ]
        },
        {
          "output_type": "execute_result",
          "data": {
            "text/plain": [
              "[('Region',),\n",
              " ('Region',),\n",
              " ('District',),\n",
              " ('District',),\n",
              " ('District',),\n",
              " ('Village',),\n",
              " ('Village',),\n",
              " ('Village',),\n",
              " ('Village',),\n",
              " ('Village',),\n",
              " ('Village',),\n",
              " ('Village',),\n",
              " ('Village',),\n",
              " ('Village',),\n",
              " ('Village',),\n",
              " ('Village',),\n",
              " ('Village',),\n",
              " ('Village',)]"
            ],
            "text/html": [
              "<table>\n",
              "    <thead>\n",
              "        <tr>\n",
              "            <th>district</th>\n",
              "        </tr>\n",
              "    </thead>\n",
              "    <tbody>\n",
              "        <tr>\n",
              "            <td>Region</td>\n",
              "        </tr>\n",
              "        <tr>\n",
              "            <td>Region</td>\n",
              "        </tr>\n",
              "        <tr>\n",
              "            <td>District</td>\n",
              "        </tr>\n",
              "        <tr>\n",
              "            <td>District</td>\n",
              "        </tr>\n",
              "        <tr>\n",
              "            <td>District</td>\n",
              "        </tr>\n",
              "        <tr>\n",
              "            <td>Village</td>\n",
              "        </tr>\n",
              "        <tr>\n",
              "            <td>Village</td>\n",
              "        </tr>\n",
              "        <tr>\n",
              "            <td>Village</td>\n",
              "        </tr>\n",
              "        <tr>\n",
              "            <td>Village</td>\n",
              "        </tr>\n",
              "        <tr>\n",
              "            <td>Village</td>\n",
              "        </tr>\n",
              "        <tr>\n",
              "            <td>Village</td>\n",
              "        </tr>\n",
              "        <tr>\n",
              "            <td>Village</td>\n",
              "        </tr>\n",
              "        <tr>\n",
              "            <td>Village</td>\n",
              "        </tr>\n",
              "        <tr>\n",
              "            <td>Village</td>\n",
              "        </tr>\n",
              "        <tr>\n",
              "            <td>Village</td>\n",
              "        </tr>\n",
              "        <tr>\n",
              "            <td>Village</td>\n",
              "        </tr>\n",
              "        <tr>\n",
              "            <td>Village</td>\n",
              "        </tr>\n",
              "        <tr>\n",
              "            <td>Village</td>\n",
              "        </tr>\n",
              "    </tbody>\n",
              "</table>"
            ]
          },
          "metadata": {},
          "execution_count": 5
        }
      ]
    },
    {
      "cell_type": "markdown",
      "source": [
        " Region Name"
      ],
      "metadata": {
        "id": "mM6fCrasQCrA"
      }
    },
    {
      "cell_type": "code",
      "source": [
        "%sql SELECT region FROM jurisdiction_hierachy"
      ],
      "metadata": {
        "colab": {
          "base_uri": "https://localhost:8080/",
          "height": 457
        },
        "id": "sxQ6oB1m5JAf",
        "outputId": "220f4ad7-efa6-47e2-db12-5df9597a0c03"
      },
      "execution_count": 6,
      "outputs": [
        {
          "output_type": "stream",
          "name": "stdout",
          "text": [
            " * sqlite:///jurisdiction_hierachy.db\n",
            "Done.\n"
          ]
        },
        {
          "output_type": "execute_result",
          "data": {
            "text/plain": [
              "[(None,),\n",
              " (None,),\n",
              " ('Middle Shabelle',),\n",
              " ('Middle Shabelle',),\n",
              " ('Hiraan',),\n",
              " ('Beledweyn',),\n",
              " ('Beledweyn',),\n",
              " ('Beledweyn',),\n",
              " ('Beledweyn',),\n",
              " ('Beledweyn',),\n",
              " ('Beledweyn',),\n",
              " ('Beledweyn',),\n",
              " ('Beledweyn',),\n",
              " ('Balcad',),\n",
              " ('Balcad',),\n",
              " ('Balcad',),\n",
              " ('Jowhar',),\n",
              " ('Jowhar',)]"
            ],
            "text/html": [
              "<table>\n",
              "    <thead>\n",
              "        <tr>\n",
              "            <th>region</th>\n",
              "        </tr>\n",
              "    </thead>\n",
              "    <tbody>\n",
              "        <tr>\n",
              "            <td>None</td>\n",
              "        </tr>\n",
              "        <tr>\n",
              "            <td>None</td>\n",
              "        </tr>\n",
              "        <tr>\n",
              "            <td>Middle Shabelle</td>\n",
              "        </tr>\n",
              "        <tr>\n",
              "            <td>Middle Shabelle</td>\n",
              "        </tr>\n",
              "        <tr>\n",
              "            <td>Hiraan</td>\n",
              "        </tr>\n",
              "        <tr>\n",
              "            <td>Beledweyn</td>\n",
              "        </tr>\n",
              "        <tr>\n",
              "            <td>Beledweyn</td>\n",
              "        </tr>\n",
              "        <tr>\n",
              "            <td>Beledweyn</td>\n",
              "        </tr>\n",
              "        <tr>\n",
              "            <td>Beledweyn</td>\n",
              "        </tr>\n",
              "        <tr>\n",
              "            <td>Beledweyn</td>\n",
              "        </tr>\n",
              "        <tr>\n",
              "            <td>Beledweyn</td>\n",
              "        </tr>\n",
              "        <tr>\n",
              "            <td>Beledweyn</td>\n",
              "        </tr>\n",
              "        <tr>\n",
              "            <td>Beledweyn</td>\n",
              "        </tr>\n",
              "        <tr>\n",
              "            <td>Balcad</td>\n",
              "        </tr>\n",
              "        <tr>\n",
              "            <td>Balcad</td>\n",
              "        </tr>\n",
              "        <tr>\n",
              "            <td>Balcad</td>\n",
              "        </tr>\n",
              "        <tr>\n",
              "            <td>Jowhar</td>\n",
              "        </tr>\n",
              "        <tr>\n",
              "            <td>Jowhar</td>\n",
              "        </tr>\n",
              "    </tbody>\n",
              "</table>"
            ]
          },
          "metadata": {},
          "execution_count": 6
        }
      ]
    },
    {
      "cell_type": "markdown",
      "source": [
        "Create Database Village_Location"
      ],
      "metadata": {
        "id": "A316R5wxQQgG"
      }
    },
    {
      "cell_type": "code",
      "source": [
        "%sql sqlite:///village_location.db"
      ],
      "metadata": {
        "id": "PnIXW2-i9KyU"
      },
      "execution_count": null,
      "outputs": []
    },
    {
      "cell_type": "code",
      "source": [
        "%%sql CREATE TABLE village_locations (\n",
        "    village_id INTEGER NOT NULL PRIMARY KEY,\n",
        "    village VARCHAR(30) NOT NULL,\n",
        "    latitude VARCHAR(30),\n",
        "    longitude VARCHAR(30),\n",
        "    total_population INTEGER\n",
        ");"
      ],
      "metadata": {
        "colab": {
          "base_uri": "https://localhost:8080/"
        },
        "id": "Qu71guXT9Pek",
        "outputId": "3ba29bf6-fd2a-42cb-c998-422ae26b4aaa"
      },
      "execution_count": 7,
      "outputs": [
        {
          "output_type": "stream",
          "name": "stdout",
          "text": [
            " * sqlite:///jurisdiction_hierachy.db\n",
            "Done.\n"
          ]
        },
        {
          "output_type": "execute_result",
          "data": {
            "text/plain": [
              "[]"
            ]
          },
          "metadata": {},
          "execution_count": 7
        }
      ]
    },
    {
      "cell_type": "markdown",
      "source": [
        "Insert Data into village_location"
      ],
      "metadata": {
        "id": "CxPKiR-ZQiUj"
      }
    },
    {
      "cell_type": "code",
      "source": [
        "%%sql INSERT into village_locations (village_id, village,latitude,longitude, total_population) VALUES\n",
        "(1,'Dharkenley','4°47''35.40\"','45°12''28.80\"',12800),\n",
        "(2,'Bulo-Kahin','4°47''57.00\"','45°11''5.70\"',9485),\n",
        "(3,'Hilo Kelyo','4°47''57.00\"','45°12''58.60\"',5212),\n",
        "(4,'Xubow','4°46''46.77\"','45°12''7.57\"',2558),\n",
        "(5,'Xiintooy','4°44''14.40\"','45°13''5.00\"',3850),\n",
        "(6,'Dhagax Jebis','4°44''27.86\"','45°12''42.03\"',3563),\n",
        "(7,'Filtare','4°44''20.43\"','45°12''27.89\"',8000),\n",
        "(8,'Howl-Wadaag','4°43''50.00\"','45°11''58.20\"',7525),\n",
        "(9,'Balcad','2°21.624''','45°23.928''',1500),\n",
        "(10,'Mareeray','2°23.504''','45°25.200''',7500),\n",
        "(11,'Kulmis','2°36.761''','45°30.642''',6058),\n",
        "(12,'Sabuun','2°53.020''','45°32.356''',5483),\n",
        "(13,'Bayaxaw','2°44.768''','45°29.727''',3000),\n",
        "(14,'Bayaxawo','2°44.768''','45°29.926''',7560);"
      ],
      "metadata": {
        "colab": {
          "base_uri": "https://localhost:8080/"
        },
        "id": "qwzclr4_9bYh",
        "outputId": "46ca84dc-74ba-4681-b427-6b90af65b438"
      },
      "execution_count": 8,
      "outputs": [
        {
          "output_type": "stream",
          "name": "stdout",
          "text": [
            " * sqlite:///jurisdiction_hierachy.db\n",
            "14 rows affected.\n"
          ]
        },
        {
          "output_type": "execute_result",
          "data": {
            "text/plain": [
              "[]"
            ]
          },
          "metadata": {},
          "execution_count": 8
        }
      ]
    },
    {
      "cell_type": "code",
      "source": [
        "%%sql CREATE TABLE beneficiary_partner_data (\n",
        "partner_id INTEGER NOT NULL PRIMARY KEY,\n",
        "partner VARCHAR(30) NOT NULL,\n",
        "village VARCHAR(30) NOT NULL,\n",
        "beneficiaries INTEGER,\n",
        "beneficiary_type VARCHAR(30)\n",
        ");\n"
      ],
      "metadata": {
        "colab": {
          "base_uri": "https://localhost:8080/"
        },
        "id": "tYBfiKgLO28T",
        "outputId": "d1b7d4b9-a545-4ba8-9c4a-034a9c8b262b"
      },
      "execution_count": 10,
      "outputs": [
        {
          "output_type": "stream",
          "name": "stdout",
          "text": [
            " * sqlite:///beneficiary_partner_data.db\n",
            "   sqlite:///jurisdiction_hierachy.db\n",
            "Done.\n"
          ]
        },
        {
          "output_type": "execute_result",
          "data": {
            "text/plain": [
              "[]"
            ]
          },
          "metadata": {},
          "execution_count": 10
        }
      ]
    },
    {
      "cell_type": "code",
      "source": [
        "%%sql INSERT into beneficiary_partner_data (partner_id,partner,village,beneficiaries,beneficiary_type) VALUES\n",
        "(1,'IRC','Balcad','1450','Individuals'),\n",
        "(2,'NRC','Balcad','50','Households'),\n",
        "(3,'SCI','Balcad','1123','Individuals'),\n",
        "(4,'IMC','Balcad','1245','Individuals'),\n",
        "(5,'SCI','Mareeray','5200','Individuals'),\n",
        "(6,'IMC','Mareeray','70','Households'),\n",
        "(7,'IRC','Mareeray','2100','Individuals'),\n",
        "(8,'CESVI','Mareeray','1800','Individuals'),\n",
        "(9,'SCI','Kulmis','1340','Individuals'),\n",
        "(10,'IMC','Kulmis','55','Households'),\n",
        "(11,'SCI','Kulmis','4500','Individuals'),\n",
        "(12,'IMC','Kulmis','1670','Individuals'),\n",
        "(13,'IMC','Sabuun','1340','Individuals'),\n",
        "(14,'IRC','Sabuun','66','Households'),\n",
        "(15,'CESVI','Sabuun','4090','Individuals'),\n",
        "(16,'SCI','Sabuun','2930','Individuals'),\n",
        "(17,'IMC','Bayaxaw','2800','Individuals'),\n",
        "(18,'IRC','Bayaxaw','2100','Individuals'),\n",
        "(19,'CESVI','Bayaxaw','45','Households'),\n",
        "(20,'SCI','Bayaxaw','1700','Individuals'),\n",
        "(21,'SCI','Bayaxawo','5900','Individuals'),\n",
        "(22,'IMC','Bayaxawo','40','Households'),\n",
        "(23,'IRC','Bayaxawo','1500','Individuals'),\n",
        "(24,'CESVI','Bayaxawo','1260','Individuals'),\n",
        "(25,'CESVI','Dharkenley','7880','Individuals'),\n",
        "(26,'IRC','Dharkenley','34','Households'),\n",
        "(27,'SCI','Bulo-Kahin','4300','Individuals'),\n",
        "(28,'IMC','Bulo-Kahin','4212','Individuals'),\n",
        "(29,'IRC','Bulo-Kahin','3200','Individuals'),\n",
        "(30,'IRC','Hilo Kelyo','5212','Individuals'),\n",
        "(31,'SCI','Hilo Kelyo','25','Households'),\n",
        "(32,'CESVI','Xubow','2157','Individuals'),\n",
        "(33,'IMC','Xiintooy','1667','Individuals'),\n",
        "(34,'IRC','Xiintooy','2667','Individuals'),\n",
        "(35,'CESVI','Dhagax Jebis','2856','Individuals'),\n",
        "(36,'CESVI','Filtare','7519','Individuals'),\n",
        "(37,'CESVI','Howl-Wadaag','6870','Individuals'),\n",
        "(38,'IMC','Howl-Wadaag','32','Households');"
      ],
      "metadata": {
        "colab": {
          "base_uri": "https://localhost:8080/"
        },
        "id": "Z6jwpyVvNvDb",
        "outputId": "6d934a38-5610-4a1b-bf0c-24e3134c16b1"
      },
      "execution_count": 11,
      "outputs": [
        {
          "output_type": "stream",
          "name": "stdout",
          "text": [
            " * sqlite:///beneficiary_partner_data.db\n",
            "   sqlite:///jurisdiction_hierachy.db\n",
            "38 rows affected.\n"
          ]
        },
        {
          "output_type": "execute_result",
          "data": {
            "text/plain": [
              "[]"
            ]
          },
          "metadata": {},
          "execution_count": 11
        }
      ]
    },
    {
      "cell_type": "code",
      "source": [
        "%%sql SELECT *FROM beneficiary_partner_data\n",
        "WHERE beneficiary_type= 'Individuals'"
      ],
      "metadata": {
        "colab": {
          "base_uri": "https://localhost:8080/",
          "height": 709
        },
        "id": "6KlC95BlTyfe",
        "outputId": "975b4672-958a-4cae-b9e6-28ca469d8513"
      },
      "execution_count": 15,
      "outputs": [
        {
          "output_type": "stream",
          "name": "stdout",
          "text": [
            " * sqlite:///beneficiary_partner_data.db\n",
            "   sqlite:///jurisdiction_hierachy.db\n",
            "Done.\n"
          ]
        },
        {
          "output_type": "execute_result",
          "data": {
            "text/plain": [
              "[(1, 'IRC', 'Balcad', 1450, 'Individuals'),\n",
              " (3, 'SCI', 'Balcad', 1123, 'Individuals'),\n",
              " (4, 'IMC', 'Balcad', 1245, 'Individuals'),\n",
              " (5, 'SCI', 'Mareeray', 5200, 'Individuals'),\n",
              " (7, 'IRC', 'Mareeray', 2100, 'Individuals'),\n",
              " (8, 'CESVI', 'Mareeray', 1800, 'Individuals'),\n",
              " (9, 'SCI', 'Kulmis', 1340, 'Individuals'),\n",
              " (11, 'SCI', 'Kulmis', 4500, 'Individuals'),\n",
              " (12, 'IMC', 'Kulmis', 1670, 'Individuals'),\n",
              " (13, 'IMC', 'Sabuun', 1340, 'Individuals'),\n",
              " (15, 'CESVI', 'Sabuun', 4090, 'Individuals'),\n",
              " (16, 'SCI', 'Sabuun', 2930, 'Individuals'),\n",
              " (17, 'IMC', 'Bayaxaw', 2800, 'Individuals'),\n",
              " (18, 'IRC', 'Bayaxaw', 2100, 'Individuals'),\n",
              " (20, 'SCI', 'Bayaxaw', 1700, 'Individuals'),\n",
              " (21, 'SCI', 'Bayaxawo', 5900, 'Individuals'),\n",
              " (23, 'IRC', 'Bayaxawo', 1500, 'Individuals'),\n",
              " (24, 'CESVI', 'Bayaxawo', 1260, 'Individuals'),\n",
              " (25, 'CESVI', 'Dharkenley', 7880, 'Individuals'),\n",
              " (27, 'SCI', 'Bulo-Kahin', 4300, 'Individuals'),\n",
              " (28, 'IMC', 'Bulo-Kahin', 4212, 'Individuals'),\n",
              " (29, 'IRC', 'Bulo-Kahin', 3200, 'Individuals'),\n",
              " (30, 'IRC', 'Hilo Kelyo', 5212, 'Individuals'),\n",
              " (32, 'CESVI', 'Xubow', 2157, 'Individuals'),\n",
              " (33, 'IMC', 'Xiintooy', 1667, 'Individuals'),\n",
              " (34, 'IRC', 'Xiintooy', 2667, 'Individuals'),\n",
              " (35, 'CESVI', 'Dhagax Jebis', 2856, 'Individuals'),\n",
              " (36, 'CESVI', 'Filtare', 7519, 'Individuals'),\n",
              " (37, 'CESVI', 'Howl-Wadaag', 6870, 'Individuals')]"
            ],
            "text/html": [
              "<table>\n",
              "    <thead>\n",
              "        <tr>\n",
              "            <th>partner_id</th>\n",
              "            <th>partner</th>\n",
              "            <th>village</th>\n",
              "            <th>beneficiaries</th>\n",
              "            <th>beneficiary_type</th>\n",
              "        </tr>\n",
              "    </thead>\n",
              "    <tbody>\n",
              "        <tr>\n",
              "            <td>1</td>\n",
              "            <td>IRC</td>\n",
              "            <td>Balcad</td>\n",
              "            <td>1450</td>\n",
              "            <td>Individuals</td>\n",
              "        </tr>\n",
              "        <tr>\n",
              "            <td>3</td>\n",
              "            <td>SCI</td>\n",
              "            <td>Balcad</td>\n",
              "            <td>1123</td>\n",
              "            <td>Individuals</td>\n",
              "        </tr>\n",
              "        <tr>\n",
              "            <td>4</td>\n",
              "            <td>IMC</td>\n",
              "            <td>Balcad</td>\n",
              "            <td>1245</td>\n",
              "            <td>Individuals</td>\n",
              "        </tr>\n",
              "        <tr>\n",
              "            <td>5</td>\n",
              "            <td>SCI</td>\n",
              "            <td>Mareeray</td>\n",
              "            <td>5200</td>\n",
              "            <td>Individuals</td>\n",
              "        </tr>\n",
              "        <tr>\n",
              "            <td>7</td>\n",
              "            <td>IRC</td>\n",
              "            <td>Mareeray</td>\n",
              "            <td>2100</td>\n",
              "            <td>Individuals</td>\n",
              "        </tr>\n",
              "        <tr>\n",
              "            <td>8</td>\n",
              "            <td>CESVI</td>\n",
              "            <td>Mareeray</td>\n",
              "            <td>1800</td>\n",
              "            <td>Individuals</td>\n",
              "        </tr>\n",
              "        <tr>\n",
              "            <td>9</td>\n",
              "            <td>SCI</td>\n",
              "            <td>Kulmis</td>\n",
              "            <td>1340</td>\n",
              "            <td>Individuals</td>\n",
              "        </tr>\n",
              "        <tr>\n",
              "            <td>11</td>\n",
              "            <td>SCI</td>\n",
              "            <td>Kulmis</td>\n",
              "            <td>4500</td>\n",
              "            <td>Individuals</td>\n",
              "        </tr>\n",
              "        <tr>\n",
              "            <td>12</td>\n",
              "            <td>IMC</td>\n",
              "            <td>Kulmis</td>\n",
              "            <td>1670</td>\n",
              "            <td>Individuals</td>\n",
              "        </tr>\n",
              "        <tr>\n",
              "            <td>13</td>\n",
              "            <td>IMC</td>\n",
              "            <td>Sabuun</td>\n",
              "            <td>1340</td>\n",
              "            <td>Individuals</td>\n",
              "        </tr>\n",
              "        <tr>\n",
              "            <td>15</td>\n",
              "            <td>CESVI</td>\n",
              "            <td>Sabuun</td>\n",
              "            <td>4090</td>\n",
              "            <td>Individuals</td>\n",
              "        </tr>\n",
              "        <tr>\n",
              "            <td>16</td>\n",
              "            <td>SCI</td>\n",
              "            <td>Sabuun</td>\n",
              "            <td>2930</td>\n",
              "            <td>Individuals</td>\n",
              "        </tr>\n",
              "        <tr>\n",
              "            <td>17</td>\n",
              "            <td>IMC</td>\n",
              "            <td>Bayaxaw</td>\n",
              "            <td>2800</td>\n",
              "            <td>Individuals</td>\n",
              "        </tr>\n",
              "        <tr>\n",
              "            <td>18</td>\n",
              "            <td>IRC</td>\n",
              "            <td>Bayaxaw</td>\n",
              "            <td>2100</td>\n",
              "            <td>Individuals</td>\n",
              "        </tr>\n",
              "        <tr>\n",
              "            <td>20</td>\n",
              "            <td>SCI</td>\n",
              "            <td>Bayaxaw</td>\n",
              "            <td>1700</td>\n",
              "            <td>Individuals</td>\n",
              "        </tr>\n",
              "        <tr>\n",
              "            <td>21</td>\n",
              "            <td>SCI</td>\n",
              "            <td>Bayaxawo</td>\n",
              "            <td>5900</td>\n",
              "            <td>Individuals</td>\n",
              "        </tr>\n",
              "        <tr>\n",
              "            <td>23</td>\n",
              "            <td>IRC</td>\n",
              "            <td>Bayaxawo</td>\n",
              "            <td>1500</td>\n",
              "            <td>Individuals</td>\n",
              "        </tr>\n",
              "        <tr>\n",
              "            <td>24</td>\n",
              "            <td>CESVI</td>\n",
              "            <td>Bayaxawo</td>\n",
              "            <td>1260</td>\n",
              "            <td>Individuals</td>\n",
              "        </tr>\n",
              "        <tr>\n",
              "            <td>25</td>\n",
              "            <td>CESVI</td>\n",
              "            <td>Dharkenley</td>\n",
              "            <td>7880</td>\n",
              "            <td>Individuals</td>\n",
              "        </tr>\n",
              "        <tr>\n",
              "            <td>27</td>\n",
              "            <td>SCI</td>\n",
              "            <td>Bulo-Kahin</td>\n",
              "            <td>4300</td>\n",
              "            <td>Individuals</td>\n",
              "        </tr>\n",
              "        <tr>\n",
              "            <td>28</td>\n",
              "            <td>IMC</td>\n",
              "            <td>Bulo-Kahin</td>\n",
              "            <td>4212</td>\n",
              "            <td>Individuals</td>\n",
              "        </tr>\n",
              "        <tr>\n",
              "            <td>29</td>\n",
              "            <td>IRC</td>\n",
              "            <td>Bulo-Kahin</td>\n",
              "            <td>3200</td>\n",
              "            <td>Individuals</td>\n",
              "        </tr>\n",
              "        <tr>\n",
              "            <td>30</td>\n",
              "            <td>IRC</td>\n",
              "            <td>Hilo Kelyo</td>\n",
              "            <td>5212</td>\n",
              "            <td>Individuals</td>\n",
              "        </tr>\n",
              "        <tr>\n",
              "            <td>32</td>\n",
              "            <td>CESVI</td>\n",
              "            <td>Xubow</td>\n",
              "            <td>2157</td>\n",
              "            <td>Individuals</td>\n",
              "        </tr>\n",
              "        <tr>\n",
              "            <td>33</td>\n",
              "            <td>IMC</td>\n",
              "            <td>Xiintooy</td>\n",
              "            <td>1667</td>\n",
              "            <td>Individuals</td>\n",
              "        </tr>\n",
              "        <tr>\n",
              "            <td>34</td>\n",
              "            <td>IRC</td>\n",
              "            <td>Xiintooy</td>\n",
              "            <td>2667</td>\n",
              "            <td>Individuals</td>\n",
              "        </tr>\n",
              "        <tr>\n",
              "            <td>35</td>\n",
              "            <td>CESVI</td>\n",
              "            <td>Dhagax Jebis</td>\n",
              "            <td>2856</td>\n",
              "            <td>Individuals</td>\n",
              "        </tr>\n",
              "        <tr>\n",
              "            <td>36</td>\n",
              "            <td>CESVI</td>\n",
              "            <td>Filtare</td>\n",
              "            <td>7519</td>\n",
              "            <td>Individuals</td>\n",
              "        </tr>\n",
              "        <tr>\n",
              "            <td>37</td>\n",
              "            <td>CESVI</td>\n",
              "            <td>Howl-Wadaag</td>\n",
              "            <td>6870</td>\n",
              "            <td>Individuals</td>\n",
              "        </tr>\n",
              "    </tbody>\n",
              "</table>"
            ]
          },
          "metadata": {},
          "execution_count": 15
        }
      ]
    },
    {
      "cell_type": "markdown",
      "source": [
        "No. of Individual Beneficiaries (1HH = 6 Individuals)"
      ],
      "metadata": {
        "id": "XcOqS4FePhxV"
      }
    },
    {
      "cell_type": "code",
      "source": [
        "%%sql SELECT COUNT (beneficiary_type)\n",
        "FROM beneficiary_partner_data\n",
        "WHERE beneficiary_type ='Individuals';"
      ],
      "metadata": {
        "colab": {
          "base_uri": "https://localhost:8080/",
          "height": 116
        },
        "id": "HW9kyEpBPSRV",
        "outputId": "3d2b61c7-b96e-40ac-e209-5606ba256bad"
      },
      "execution_count": 12,
      "outputs": [
        {
          "output_type": "stream",
          "name": "stdout",
          "text": [
            " * sqlite:///beneficiary_partner_data.db\n",
            "   sqlite:///jurisdiction_hierachy.db\n",
            "Done.\n"
          ]
        },
        {
          "output_type": "execute_result",
          "data": {
            "text/plain": [
              "[(29,)]"
            ],
            "text/html": [
              "<table>\n",
              "    <thead>\n",
              "        <tr>\n",
              "            <th>COUNT (beneficiary_type)</th>\n",
              "        </tr>\n",
              "    </thead>\n",
              "    <tbody>\n",
              "        <tr>\n",
              "            <td>29</td>\n",
              "        </tr>\n",
              "    </tbody>\n",
              "</table>"
            ]
          },
          "metadata": {},
          "execution_count": 12
        }
      ]
    },
    {
      "cell_type": "markdown",
      "source": [
        "No. of Individual Beneficiaries / Total District Population. Stuck Here\n",
        "\n",
        "---\n",
        "\n"
      ],
      "metadata": {
        "id": "fszjdRwFQ1xH"
      }
    },
    {
      "cell_type": "code",
      "source": [
        "%%sql SELECT COUNT Total_Population\n",
        "FROM beneficiary_partner_data\n",
        "%%sql SELECT COUNT (beneficiary_type)\n",
        "FROM beneficiary_partner_data\n",
        "WHERE beneficiary_type ='Individuals';"
      ],
      "metadata": {
        "id": "q6I1hlY1bDl8"
      },
      "execution_count": null,
      "outputs": []
    },
    {
      "cell_type": "markdown",
      "source": [
        "b) ****Partner_summary****\n",
        "\n",
        "> i) Partner Name"
      ],
      "metadata": {
        "id": "DMqB7-KbR7bG"
      }
    },
    {
      "cell_type": "code",
      "source": [
        "%%sql SELECT (partner) AS partner_name\n",
        "FROM beneficiary_partner_data;\n"
      ],
      "metadata": {
        "colab": {
          "base_uri": "https://localhost:8080/",
          "height": 899
        },
        "id": "v8cRexbVR-Z4",
        "outputId": "05d5ff38-6792-49c7-bfc4-0587c2bca98b"
      },
      "execution_count": 14,
      "outputs": [
        {
          "output_type": "stream",
          "name": "stdout",
          "text": [
            " * sqlite:///beneficiary_partner_data.db\n",
            "   sqlite:///jurisdiction_hierachy.db\n",
            "Done.\n"
          ]
        },
        {
          "output_type": "execute_result",
          "data": {
            "text/plain": [
              "[('IRC',),\n",
              " ('NRC',),\n",
              " ('SCI',),\n",
              " ('IMC',),\n",
              " ('SCI',),\n",
              " ('IMC',),\n",
              " ('IRC',),\n",
              " ('CESVI',),\n",
              " ('SCI',),\n",
              " ('IMC',),\n",
              " ('SCI',),\n",
              " ('IMC',),\n",
              " ('IMC',),\n",
              " ('IRC',),\n",
              " ('CESVI',),\n",
              " ('SCI',),\n",
              " ('IMC',),\n",
              " ('IRC',),\n",
              " ('CESVI',),\n",
              " ('SCI',),\n",
              " ('SCI',),\n",
              " ('IMC',),\n",
              " ('IRC',),\n",
              " ('CESVI',),\n",
              " ('CESVI',),\n",
              " ('IRC',),\n",
              " ('SCI',),\n",
              " ('IMC',),\n",
              " ('IRC',),\n",
              " ('IRC',),\n",
              " ('SCI',),\n",
              " ('CESVI',),\n",
              " ('IMC',),\n",
              " ('IRC',),\n",
              " ('CESVI',),\n",
              " ('CESVI',),\n",
              " ('CESVI',),\n",
              " ('IMC',)]"
            ],
            "text/html": [
              "<table>\n",
              "    <thead>\n",
              "        <tr>\n",
              "            <th>partner_name</th>\n",
              "        </tr>\n",
              "    </thead>\n",
              "    <tbody>\n",
              "        <tr>\n",
              "            <td>IRC</td>\n",
              "        </tr>\n",
              "        <tr>\n",
              "            <td>NRC</td>\n",
              "        </tr>\n",
              "        <tr>\n",
              "            <td>SCI</td>\n",
              "        </tr>\n",
              "        <tr>\n",
              "            <td>IMC</td>\n",
              "        </tr>\n",
              "        <tr>\n",
              "            <td>SCI</td>\n",
              "        </tr>\n",
              "        <tr>\n",
              "            <td>IMC</td>\n",
              "        </tr>\n",
              "        <tr>\n",
              "            <td>IRC</td>\n",
              "        </tr>\n",
              "        <tr>\n",
              "            <td>CESVI</td>\n",
              "        </tr>\n",
              "        <tr>\n",
              "            <td>SCI</td>\n",
              "        </tr>\n",
              "        <tr>\n",
              "            <td>IMC</td>\n",
              "        </tr>\n",
              "        <tr>\n",
              "            <td>SCI</td>\n",
              "        </tr>\n",
              "        <tr>\n",
              "            <td>IMC</td>\n",
              "        </tr>\n",
              "        <tr>\n",
              "            <td>IMC</td>\n",
              "        </tr>\n",
              "        <tr>\n",
              "            <td>IRC</td>\n",
              "        </tr>\n",
              "        <tr>\n",
              "            <td>CESVI</td>\n",
              "        </tr>\n",
              "        <tr>\n",
              "            <td>SCI</td>\n",
              "        </tr>\n",
              "        <tr>\n",
              "            <td>IMC</td>\n",
              "        </tr>\n",
              "        <tr>\n",
              "            <td>IRC</td>\n",
              "        </tr>\n",
              "        <tr>\n",
              "            <td>CESVI</td>\n",
              "        </tr>\n",
              "        <tr>\n",
              "            <td>SCI</td>\n",
              "        </tr>\n",
              "        <tr>\n",
              "            <td>SCI</td>\n",
              "        </tr>\n",
              "        <tr>\n",
              "            <td>IMC</td>\n",
              "        </tr>\n",
              "        <tr>\n",
              "            <td>IRC</td>\n",
              "        </tr>\n",
              "        <tr>\n",
              "            <td>CESVI</td>\n",
              "        </tr>\n",
              "        <tr>\n",
              "            <td>CESVI</td>\n",
              "        </tr>\n",
              "        <tr>\n",
              "            <td>IRC</td>\n",
              "        </tr>\n",
              "        <tr>\n",
              "            <td>SCI</td>\n",
              "        </tr>\n",
              "        <tr>\n",
              "            <td>IMC</td>\n",
              "        </tr>\n",
              "        <tr>\n",
              "            <td>IRC</td>\n",
              "        </tr>\n",
              "        <tr>\n",
              "            <td>IRC</td>\n",
              "        </tr>\n",
              "        <tr>\n",
              "            <td>SCI</td>\n",
              "        </tr>\n",
              "        <tr>\n",
              "            <td>CESVI</td>\n",
              "        </tr>\n",
              "        <tr>\n",
              "            <td>IMC</td>\n",
              "        </tr>\n",
              "        <tr>\n",
              "            <td>IRC</td>\n",
              "        </tr>\n",
              "        <tr>\n",
              "            <td>CESVI</td>\n",
              "        </tr>\n",
              "        <tr>\n",
              "            <td>CESVI</td>\n",
              "        </tr>\n",
              "        <tr>\n",
              "            <td>CESVI</td>\n",
              "        </tr>\n",
              "        <tr>\n",
              "            <td>IMC</td>\n",
              "        </tr>\n",
              "    </tbody>\n",
              "</table>"
            ]
          },
          "metadata": {},
          "execution_count": 14
        }
      ]
    },
    {
      "cell_type": "markdown",
      "source": [
        "ii) No. of Villages reached by partner"
      ],
      "metadata": {
        "id": "8j5E5kneVWJ-"
      }
    },
    {
      "cell_type": "code",
      "source": [
        "%%sql SELECT COUNT (Village), (Partner)\n",
        "FROM beneficiary_partner_data\n",
        "GROUP BY partner_id;"
      ],
      "metadata": {
        "colab": {
          "base_uri": "https://localhost:8080/",
          "height": 899
        },
        "id": "L64kcluVXpBw",
        "outputId": "70163580-502d-49bd-eeab-9db1c406f0a3"
      },
      "execution_count": 36,
      "outputs": [
        {
          "output_type": "stream",
          "name": "stdout",
          "text": [
            " * sqlite:///beneficiary_partner_data.db\n",
            "   sqlite:///jurisdiction_hierachy.db\n",
            "Done.\n"
          ]
        },
        {
          "output_type": "execute_result",
          "data": {
            "text/plain": [
              "[(1, 'IRC'),\n",
              " (1, 'NRC'),\n",
              " (1, 'SCI'),\n",
              " (1, 'IMC'),\n",
              " (1, 'SCI'),\n",
              " (1, 'IMC'),\n",
              " (1, 'IRC'),\n",
              " (1, 'CESVI'),\n",
              " (1, 'SCI'),\n",
              " (1, 'IMC'),\n",
              " (1, 'SCI'),\n",
              " (1, 'IMC'),\n",
              " (1, 'IMC'),\n",
              " (1, 'IRC'),\n",
              " (1, 'CESVI'),\n",
              " (1, 'SCI'),\n",
              " (1, 'IMC'),\n",
              " (1, 'IRC'),\n",
              " (1, 'CESVI'),\n",
              " (1, 'SCI'),\n",
              " (1, 'SCI'),\n",
              " (1, 'IMC'),\n",
              " (1, 'IRC'),\n",
              " (1, 'CESVI'),\n",
              " (1, 'CESVI'),\n",
              " (1, 'IRC'),\n",
              " (1, 'SCI'),\n",
              " (1, 'IMC'),\n",
              " (1, 'IRC'),\n",
              " (1, 'IRC'),\n",
              " (1, 'SCI'),\n",
              " (1, 'CESVI'),\n",
              " (1, 'IMC'),\n",
              " (1, 'IRC'),\n",
              " (1, 'CESVI'),\n",
              " (1, 'CESVI'),\n",
              " (1, 'CESVI'),\n",
              " (1, 'IMC')]"
            ],
            "text/html": [
              "<table>\n",
              "    <thead>\n",
              "        <tr>\n",
              "            <th>COUNT (Village)</th>\n",
              "            <th>partner</th>\n",
              "        </tr>\n",
              "    </thead>\n",
              "    <tbody>\n",
              "        <tr>\n",
              "            <td>1</td>\n",
              "            <td>IRC</td>\n",
              "        </tr>\n",
              "        <tr>\n",
              "            <td>1</td>\n",
              "            <td>NRC</td>\n",
              "        </tr>\n",
              "        <tr>\n",
              "            <td>1</td>\n",
              "            <td>SCI</td>\n",
              "        </tr>\n",
              "        <tr>\n",
              "            <td>1</td>\n",
              "            <td>IMC</td>\n",
              "        </tr>\n",
              "        <tr>\n",
              "            <td>1</td>\n",
              "            <td>SCI</td>\n",
              "        </tr>\n",
              "        <tr>\n",
              "            <td>1</td>\n",
              "            <td>IMC</td>\n",
              "        </tr>\n",
              "        <tr>\n",
              "            <td>1</td>\n",
              "            <td>IRC</td>\n",
              "        </tr>\n",
              "        <tr>\n",
              "            <td>1</td>\n",
              "            <td>CESVI</td>\n",
              "        </tr>\n",
              "        <tr>\n",
              "            <td>1</td>\n",
              "            <td>SCI</td>\n",
              "        </tr>\n",
              "        <tr>\n",
              "            <td>1</td>\n",
              "            <td>IMC</td>\n",
              "        </tr>\n",
              "        <tr>\n",
              "            <td>1</td>\n",
              "            <td>SCI</td>\n",
              "        </tr>\n",
              "        <tr>\n",
              "            <td>1</td>\n",
              "            <td>IMC</td>\n",
              "        </tr>\n",
              "        <tr>\n",
              "            <td>1</td>\n",
              "            <td>IMC</td>\n",
              "        </tr>\n",
              "        <tr>\n",
              "            <td>1</td>\n",
              "            <td>IRC</td>\n",
              "        </tr>\n",
              "        <tr>\n",
              "            <td>1</td>\n",
              "            <td>CESVI</td>\n",
              "        </tr>\n",
              "        <tr>\n",
              "            <td>1</td>\n",
              "            <td>SCI</td>\n",
              "        </tr>\n",
              "        <tr>\n",
              "            <td>1</td>\n",
              "            <td>IMC</td>\n",
              "        </tr>\n",
              "        <tr>\n",
              "            <td>1</td>\n",
              "            <td>IRC</td>\n",
              "        </tr>\n",
              "        <tr>\n",
              "            <td>1</td>\n",
              "            <td>CESVI</td>\n",
              "        </tr>\n",
              "        <tr>\n",
              "            <td>1</td>\n",
              "            <td>SCI</td>\n",
              "        </tr>\n",
              "        <tr>\n",
              "            <td>1</td>\n",
              "            <td>SCI</td>\n",
              "        </tr>\n",
              "        <tr>\n",
              "            <td>1</td>\n",
              "            <td>IMC</td>\n",
              "        </tr>\n",
              "        <tr>\n",
              "            <td>1</td>\n",
              "            <td>IRC</td>\n",
              "        </tr>\n",
              "        <tr>\n",
              "            <td>1</td>\n",
              "            <td>CESVI</td>\n",
              "        </tr>\n",
              "        <tr>\n",
              "            <td>1</td>\n",
              "            <td>CESVI</td>\n",
              "        </tr>\n",
              "        <tr>\n",
              "            <td>1</td>\n",
              "            <td>IRC</td>\n",
              "        </tr>\n",
              "        <tr>\n",
              "            <td>1</td>\n",
              "            <td>SCI</td>\n",
              "        </tr>\n",
              "        <tr>\n",
              "            <td>1</td>\n",
              "            <td>IMC</td>\n",
              "        </tr>\n",
              "        <tr>\n",
              "            <td>1</td>\n",
              "            <td>IRC</td>\n",
              "        </tr>\n",
              "        <tr>\n",
              "            <td>1</td>\n",
              "            <td>IRC</td>\n",
              "        </tr>\n",
              "        <tr>\n",
              "            <td>1</td>\n",
              "            <td>SCI</td>\n",
              "        </tr>\n",
              "        <tr>\n",
              "            <td>1</td>\n",
              "            <td>CESVI</td>\n",
              "        </tr>\n",
              "        <tr>\n",
              "            <td>1</td>\n",
              "            <td>IMC</td>\n",
              "        </tr>\n",
              "        <tr>\n",
              "            <td>1</td>\n",
              "            <td>IRC</td>\n",
              "        </tr>\n",
              "        <tr>\n",
              "            <td>1</td>\n",
              "            <td>CESVI</td>\n",
              "        </tr>\n",
              "        <tr>\n",
              "            <td>1</td>\n",
              "            <td>CESVI</td>\n",
              "        </tr>\n",
              "        <tr>\n",
              "            <td>1</td>\n",
              "            <td>CESVI</td>\n",
              "        </tr>\n",
              "        <tr>\n",
              "            <td>1</td>\n",
              "            <td>IMC</td>\n",
              "        </tr>\n",
              "    </tbody>\n",
              "</table>"
            ]
          },
          "metadata": {},
          "execution_count": 36
        }
      ]
    },
    {
      "cell_type": "code",
      "source": [
        "%%sql SELECT village\n",
        "FROM beneficiary_partner_data\n",
        "UNION\n",
        "SELECT partner\n",
        "FROM  beneficiary_partner_data;"
      ],
      "metadata": {
        "colab": {
          "base_uri": "https://localhost:8080/",
          "height": 497
        },
        "id": "XfuYZPE1Z1H3",
        "outputId": "161113a7-4816-4318-9011-2ddfc89276ac"
      },
      "execution_count": 37,
      "outputs": [
        {
          "output_type": "stream",
          "name": "stdout",
          "text": [
            " * sqlite:///beneficiary_partner_data.db\n",
            "   sqlite:///jurisdiction_hierachy.db\n",
            "Done.\n"
          ]
        },
        {
          "output_type": "execute_result",
          "data": {
            "text/plain": [
              "[('Balcad',),\n",
              " ('Bayaxaw',),\n",
              " ('Bayaxawo',),\n",
              " ('Bulo-Kahin',),\n",
              " ('CESVI',),\n",
              " ('Dhagax Jebis',),\n",
              " ('Dharkenley',),\n",
              " ('Filtare',),\n",
              " ('Hilo Kelyo',),\n",
              " ('Howl-Wadaag',),\n",
              " ('IMC',),\n",
              " ('IRC',),\n",
              " ('Kulmis',),\n",
              " ('Mareeray',),\n",
              " ('NRC',),\n",
              " ('SCI',),\n",
              " ('Sabuun',),\n",
              " ('Xiintooy',),\n",
              " ('Xubow',)]"
            ],
            "text/html": [
              "<table>\n",
              "    <thead>\n",
              "        <tr>\n",
              "            <th>village</th>\n",
              "        </tr>\n",
              "    </thead>\n",
              "    <tbody>\n",
              "        <tr>\n",
              "            <td>Balcad</td>\n",
              "        </tr>\n",
              "        <tr>\n",
              "            <td>Bayaxaw</td>\n",
              "        </tr>\n",
              "        <tr>\n",
              "            <td>Bayaxawo</td>\n",
              "        </tr>\n",
              "        <tr>\n",
              "            <td>Bulo-Kahin</td>\n",
              "        </tr>\n",
              "        <tr>\n",
              "            <td>CESVI</td>\n",
              "        </tr>\n",
              "        <tr>\n",
              "            <td>Dhagax Jebis</td>\n",
              "        </tr>\n",
              "        <tr>\n",
              "            <td>Dharkenley</td>\n",
              "        </tr>\n",
              "        <tr>\n",
              "            <td>Filtare</td>\n",
              "        </tr>\n",
              "        <tr>\n",
              "            <td>Hilo Kelyo</td>\n",
              "        </tr>\n",
              "        <tr>\n",
              "            <td>Howl-Wadaag</td>\n",
              "        </tr>\n",
              "        <tr>\n",
              "            <td>IMC</td>\n",
              "        </tr>\n",
              "        <tr>\n",
              "            <td>IRC</td>\n",
              "        </tr>\n",
              "        <tr>\n",
              "            <td>Kulmis</td>\n",
              "        </tr>\n",
              "        <tr>\n",
              "            <td>Mareeray</td>\n",
              "        </tr>\n",
              "        <tr>\n",
              "            <td>NRC</td>\n",
              "        </tr>\n",
              "        <tr>\n",
              "            <td>SCI</td>\n",
              "        </tr>\n",
              "        <tr>\n",
              "            <td>Sabuun</td>\n",
              "        </tr>\n",
              "        <tr>\n",
              "            <td>Xiintooy</td>\n",
              "        </tr>\n",
              "        <tr>\n",
              "            <td>Xubow</td>\n",
              "        </tr>\n",
              "    </tbody>\n",
              "</table>"
            ]
          },
          "metadata": {},
          "execution_count": 37
        }
      ]
    },
    {
      "cell_type": "markdown",
      "source": [
        "iii) No. of Districts reached by partner"
      ],
      "metadata": {
        "id": "HQly0PHRdL8r"
      }
    },
    {
      "cell_type": "code",
      "source": [
        "%%sql SELECT districts\n",
        "FROM jurisdiction_hierachy\n",
        "UNION\n",
        "SELECT partner\n",
        "FROM  beneficiary_partner_data;"
      ],
      "metadata": {
        "id": "ZFUIdK_PdK76"
      },
      "execution_count": null,
      "outputs": []
    }
  ]
}